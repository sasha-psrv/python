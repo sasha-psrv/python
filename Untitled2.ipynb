{
  "nbformat": 4,
  "nbformat_minor": 0,
  "metadata": {
    "colab": {
      "provenance": [],
      "authorship_tag": "ABX9TyONfTImdPNASD4ouLVKfV/c",
      "include_colab_link": true
    },
    "kernelspec": {
      "name": "python3",
      "display_name": "Python 3"
    },
    "language_info": {
      "name": "python"
    }
  },
  "cells": [
    {
      "cell_type": "markdown",
      "metadata": {
        "id": "view-in-github",
        "colab_type": "text"
      },
      "source": [
        "<a href=\"https://colab.research.google.com/github/sasha-psrv/python/blob/main/Untitled2.ipynb\" target=\"_parent\"><img src=\"https://colab.research.google.com/assets/colab-badge.svg\" alt=\"Open In Colab\"/></a>"
      ]
    },
    {
      "cell_type": "code",
      "execution_count": null,
      "metadata": {
        "id": "EUANT3gRZIVH"
      },
      "outputs": [],
      "source": [
        "import pandas as pd\n",
        "df=pd.read_csv('https://minobrnauki.gov.ru/upload/iblock/78d/78d77b235f7b3b14e1ac671e61435311.csv', sep=';' , encoding='cp1251')\n",
        "maskacfo=df['Субъект РФ'].str.contains('Центральный федеральный округ')\n",
        "maskafo=df['Субъект РФ'].str.contains('федеральный округ')\n",
        "CFD_index =df[maskacfo].index\n",
        "Indices_of_federal_districts = [df[maskafo].index]\n",
        "List_of_regions_of_the_CFD = df.loc[2:19]\n",
        "Regions_of_the_CFD = List_of_regions_of_the_CFD[List_of_regions_of_the_CFD['Субъект РФ'].str.contains('область')]\n",
        "max = Regions_of_the_CFD['Численность студентов очно-заочная (вечерняя) форма, человек, 2015'].max()\n",
        "result = Regions_of_the_CFD[Regions_of_the_CFD['Численность студентов очно-заочная (вечерняя) форма, человек, 2015']==max]\n",
        "result"
      ]
    }
  ]
}