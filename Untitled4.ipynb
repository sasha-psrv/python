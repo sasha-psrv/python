{
  "nbformat": 4,
  "nbformat_minor": 0,
  "metadata": {
    "colab": {
      "provenance": [],
      "authorship_tag": "ABX9TyN7zzjxtyrf8Xl2B6shanZR",
      "include_colab_link": true
    },
    "kernelspec": {
      "name": "python3",
      "display_name": "Python 3"
    },
    "language_info": {
      "name": "python"
    }
  },
  "cells": [
    {
      "cell_type": "markdown",
      "metadata": {
        "id": "view-in-github",
        "colab_type": "text"
      },
      "source": [
        "<a href=\"https://colab.research.google.com/github/sasha-psrv/python/blob/main/Untitled4.ipynb\" target=\"_parent\"><img src=\"https://colab.research.google.com/assets/colab-badge.svg\" alt=\"Open In Colab\"/></a>"
      ]
    },
    {
      "cell_type": "code",
      "execution_count": null,
      "metadata": {
        "id": "oPolzWk5agqd"
      },
      "outputs": [],
      "source": [
        "import pandas as pd\n",
        "import seaborn as sas\n",
        "df=pd.read_csv('https://minobrnauki.gov.ru/upload/iblock/78d/78d77b235f7b3b14e1ac671e61435311.csv', sep=';' , encoding='cp1251')\n",
        "df1=df[df['Численность студентов заочная форма, человек, 2019']>10000]\n",
        "msk=df1['Субъект РФ'].str.contains('округ')\n",
        "regions=df1.drop(df1[msk].index)\n",
        "regions=regions.drop(regions[regions['Субъект РФ'].str.contains('Федерация')].index)\n",
        "plot = sas.barplot(regions, x ='Субъект РФ', y ='Численность студентов заочная форма, человек, 2019')\n",
        "plot.set_xticklabels(labels=regions['Субъект РФ'], rotation=90)"
      ]
    }
  ]
}