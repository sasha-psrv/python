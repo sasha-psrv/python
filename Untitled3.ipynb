{
  "nbformat": 4,
  "nbformat_minor": 0,
  "metadata": {
    "colab": {
      "provenance": [],
      "authorship_tag": "ABX9TyOHMYxAGhthXUuAvdZtJVWB",
      "include_colab_link": true
    },
    "kernelspec": {
      "name": "python3",
      "display_name": "Python 3"
    },
    "language_info": {
      "name": "python"
    }
  },
  "cells": [
    {
      "cell_type": "markdown",
      "metadata": {
        "id": "view-in-github",
        "colab_type": "text"
      },
      "source": [
        "<a href=\"https://colab.research.google.com/github/sasha-psrv/python/blob/main/Untitled3.ipynb\" target=\"_parent\"><img src=\"https://colab.research.google.com/assets/colab-badge.svg\" alt=\"Open In Colab\"/></a>"
      ]
    },
    {
      "cell_type": "code",
      "execution_count": null,
      "metadata": {
        "id": "IKiHPynZZtuI"
      },
      "outputs": [],
      "source": [
        "import pandas as pd\n",
        "import seaborn as sas\n",
        "df=pd.read_csv('https://minobrnauki.gov.ru/upload/iblock/78d/78d77b235f7b3b14e1ac671e61435311.csv', sep=';' , encoding='cp1251')\n",
        "maskasfd=df['Субъект РФ'].str.contains('Южный федеральный округ')#маска для поиска индекса ЮФО\n",
        "maskafo=df['Субъект РФ'].str.contains('федеральный округ')#маска для поиска индексов ФО\n",
        "SFD_index =df[maskasfd].index#индекс ЮФО\n",
        "Indices_of_federal_districts = [df[maskafo].index]#индексы федеральных округов\n",
        "List_of_regions_of_the_SFD = df.loc[33:40]#список регионов ЮФО\n",
        "Daytime_education=List_of_regions_of_the_SFD['Численность студентов, очная форма, человек, 2017']#список численности студентов по ЮФО\n",
        "plot = sas.barplot(List_of_regions_of_the_SFD, x ='Субъект РФ', y ='Численность студентов, очная форма, человек, 2017')\n",
        "plot.set_xticklabels(labels=List_of_regions_of_the_SFD['Субъект РФ'], rotation=90)"
      ]
    }
  ]
}